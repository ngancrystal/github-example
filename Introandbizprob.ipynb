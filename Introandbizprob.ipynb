{
 "cells": [
  {
   "cell_type": "markdown",
   "metadata": {},
   "source": [
    "<h1><center>IBM Data Science Course Capstone Project</center></h1>\n",
    "\n",
    "\n",
    "\n",
    "\n",
    "<h3><center>Thai Hai Ngan</center></h3>\n",
    "\n",
    "\n",
    "<h3><center>May 2020</center></h3>\n"
   ]
  },
  {
   "cell_type": "markdown",
   "metadata": {},
   "source": [
    "## 1. Introduction"
   ]
  },
  {
   "cell_type": "markdown",
   "metadata": {},
   "source": [
    "I have been acquiring skills related to data science by taking the IBM Data Science Professional Course on Coursera. The last course contains a capstone project. This project is about applying data science toolset and obtained skills to analyze a problem in reality and creating value. My project's theme concerns a topic that I have been really interested in: Food & Beverage industry. My analysis was performed in Python. The details are pushed to Github, containing detailed report and the Jupyter notebook. I will link them at the end of the report."
   ]
  },
  {
   "cell_type": "markdown",
   "metadata": {},
   "source": [
    "## 2. Business Problem "
   ]
  },
  {
   "cell_type": "markdown",
   "metadata": {},
   "source": [
    "My client decide to open a new restaurant in Ho Chi Minh City, Vietnam. In recent years, there is a big boom in all-day brunch&bakery. She is keen on opening a new unit, which will focus on the American and Asian fusion vegetarian kitchen. Taking into account the financial plan at which the restaurant will operate, the intent is to find an optimal location in an area, where vegetarian all-day brunch is booming. The following criteria should be considered:\n",
    " - Accessibility for tourists and local citizens (transportation)\n",
    " - Nearby competitors\n",
    " - Metropolitan area\n",
    " \n",
    "The assumption behind the analysis is that we can use unsupervised machine learning to create clusters of districts that will provide us with a list of areas for potential locations for the restaurant. The purpose is that the restaurant to be situated close to one of high populated areas and touristic hotspots, with less competition, and easily accessed to."
   ]
  },
  {
   "cell_type": "markdown",
   "metadata": {},
   "source": []
  },
  {
   "cell_type": "markdown",
   "metadata": {},
   "source": []
  }
 ],
 "metadata": {
  "kernelspec": {
   "display_name": "Python",
   "language": "python",
   "name": "conda-env-python-py"
  },
  "language_info": {
   "codemirror_mode": {
    "name": "ipython",
    "version": 3
   },
   "file_extension": ".py",
   "mimetype": "text/x-python",
   "name": "python",
   "nbconvert_exporter": "python",
   "pygments_lexer": "ipython3",
   "version": "3.6.10"
  }
 },
 "nbformat": 4,
 "nbformat_minor": 4
}
